{
 "metadata": {
  "name": "",
  "signature": "sha256:7fcb821dc102df96c88cbc9c9dfc8443037c94b88cd3156e45a96f475f373ad1"
 },
 "nbformat": 3,
 "nbformat_minor": 0,
 "worksheets": [
  {
   "cells": [
    {
     "cell_type": "code",
     "collapsed": false,
     "input": [
      "# noexport\n",
      "\n",
      "import os\n",
      "os.system('export_notebook jsobj.ipynb')"
     ],
     "language": "python",
     "metadata": {},
     "outputs": [
      {
       "metadata": {},
       "output_type": "pyout",
       "prompt_number": 1,
       "text": [
        "0"
       ]
      }
     ],
     "prompt_number": 1
    },
    {
     "cell_type": "code",
     "collapsed": false,
     "input": [
      "\"\"\"\n",
      "JsObj is simple implementation JavaScript-Style Objects in Python.\n",
      "\n",
      "Homepage and documentation: http://github.com/gkovacs/jsobj\n",
      "\n",
      "Copyright (c) 2014, Geza Kovacs. Based on JsObject by Marcin Wierzbanowski.\n",
      "License: MIT (see LICENSE for details)\n",
      "\"\"\"\n",
      "#from __future__ import with_statement\n",
      "#import os\n",
      "#try:\n",
      "#  HERE = os.path.abspath(os.path.dirname(__file__))\n",
      "#except:\n",
      "#  HERE = os.path.abspath(os.getcwd())\n",
      "\n",
      "__author__ = 'Geza Kovacs'\n",
      "#__version__ = open(os.path.join(HERE, 'VERSION')).read()[:-1]\n",
      "__version__ = '1.0.0'\n",
      "__license__ = 'MIT'\n",
      "\n",
      "\n",
      "def to_jsobj(v):\n",
      "  if type(v) == dict:\n",
      "    return Object(v)\n",
      "  if type(v) == list:\n",
      "    return [to_jsobj(x) for x in v]\n",
      "  return v\n",
      "\n",
      "class Object(object):\n",
      "  \"\"\" This is a base class \"\"\"\n",
      "\n",
      "  def __init__(self, data={}):\n",
      "    if type(data) not in (dict, Object):\n",
      "      raise TypeError(\"argument must be dict, not %s\"\n",
      "              % type(data).__name__)\n",
      "\n",
      "    for k, v in self.__get(data).items():\n",
      "      self.__dict__[k] = self.__set(v)\n",
      "\n",
      "  def __getattr__(self, k):\n",
      "    if k not in self.__dict__:\n",
      "      return None\n",
      "    else:\n",
      "      return self.__dict__[k]\n",
      "\n",
      "  def __setattr__(self, k, v):\n",
      "    self.__dict__[k] = Object(v) if type(v) == dict else v\n",
      "\n",
      "  def get(self):\n",
      "      return dict((k, self.__get(v)) for (k, v) in self.__dict__.items())\n",
      "\n",
      "  def __get(self, v):\n",
      "    #return v.get() if type(v) == Object else v\n",
      "    return v\n",
      "\n",
      "  def __set(self, v):\n",
      "    #return Object(v) if type(v) == dict else v\n",
      "    return to_jsobj(v)\n",
      "\n",
      "  def __str__(self):\n",
      "    #return str(self.get())\n",
      "    return self.__dict__.__str__()\n",
      "\n",
      "  def __repr__(self):\n",
      "    #return str(self.get())\n",
      "    return self.__dict__.__repr__()\n",
      "\n",
      "  def __eq__(self, other):\n",
      "    return str(self) == str(other)\n",
      "\n",
      "  def __contains__(self, k):\n",
      "    return k in self.__dict__\n",
      "\n",
      "  def __len__(self):\n",
      "    return len(self.__dict__)\n",
      "\n",
      "  def __getitem__(self, k):\n",
      "    if k not in self.__dict__:\n",
      "      return None\n",
      "    else:\n",
      "      return self.__dict__[k]\n",
      "\n",
      "  def __setitem__(self, k, v):\n",
      "    #self.__dict__[k] = Object(v) if type(v) == dict else v\n",
      "    self.__dict__[k] = to_jsobj(v)\n",
      "\n",
      "  def __iter__(self):\n",
      "    return self.__dict__.__iter__()\n",
      "\n",
      "  def iteritems(self):\n",
      "    return self.__dict__.iteritems()\n",
      "\n",
      "  def items(self):\n",
      "    return self.__dict__.items()\n",
      "\n",
      "  def keys(self):\n",
      "    return self.__dict__.keys()\n",
      "\n",
      "  def iterkeys(self):\n",
      "    return self.__dict__.iterkeys()\n",
      "\n",
      "  def values(self):\n",
      "    return self.__dict__.values()\n",
      "\n",
      "  def itervalues(self):\n",
      "    return self.__dict__.itervalues()"
     ],
     "language": "python",
     "metadata": {},
     "outputs": [],
     "prompt_number": 16
    },
    {
     "cell_type": "code",
     "collapsed": false,
     "input": [
      "# noexport\n",
      "\n",
      "d = Object({'a': 3, 'b': 5, 'c': [{'q': 7}]})\n",
      "print d.c[0].r"
     ],
     "language": "python",
     "metadata": {},
     "outputs": [
      {
       "output_type": "stream",
       "stream": "stdout",
       "text": [
        "None\n"
       ]
      }
     ],
     "prompt_number": 17
    }
   ],
   "metadata": {}
  }
 ]
}