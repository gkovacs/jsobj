{
 "metadata": {
  "name": "",
  "signature": "sha256:633a44e9a7f9da1481848ddecde7284a3c1604b2d0eaeb17c16d4d87bc2adec3"
 },
 "nbformat": 3,
 "nbformat_minor": 0,
 "worksheets": [
  {
   "cells": [
    {
     "cell_type": "code",
     "collapsed": false,
     "input": [
      "# noexport\n",
      "\n",
      "import os\n",
      "os.system('export_notebook jsobj.ipynb')"
     ],
     "language": "python",
     "metadata": {},
     "outputs": [
      {
       "metadata": {},
       "output_type": "pyout",
       "prompt_number": 15,
       "text": [
        "0"
       ]
      }
     ],
     "prompt_number": 15
    },
    {
     "cell_type": "code",
     "collapsed": false,
     "input": [
      "\"\"\"\n",
      "JsObj is simple implementation JavaScript-Style Objects in Python.\n",
      "\n",
      "Homepage and documentation: http://github.com/gkovacs/jsobj\n",
      "\n",
      "Copyright (c) 2014, Geza Kovacs. Based on JsObject by Marcin Wierzbanowski.\n",
      "License: MIT (see LICENSE for details)\n",
      "\"\"\"\n",
      "#from __future__ import with_statement\n",
      "import os\n",
      "try:\n",
      "  HERE = os.path.abspath(os.path.dirname(__file__))\n",
      "except:\n",
      "  HERE = os.path.abspath(os.getcwd())\n",
      "\n",
      "__author__ = 'Geza Kovacs'\n",
      "__version__ = open(os.path.join(HERE, 'VERSION')).read()[:-1]\n",
      "#__version__ = '1.0.0'\n",
      "__license__ = 'MIT'\n",
      "\n",
      "\n",
      "def to_jsobj(v):\n",
      "  if type(v) == dict:\n",
      "    return Object(v)\n",
      "  if type(v) == list:\n",
      "    return [to_jsobj(x) for x in v]\n",
      "  return v\n",
      "\n",
      "class Object(object):\n",
      "  \"\"\" This is a base class \"\"\"\n",
      "\n",
      "  def __init__(self, data={}):\n",
      "    if type(data) not in (dict, Object):\n",
      "      raise TypeError(\"argument must be dict, not %s\"\n",
      "              % type(data).__name__)\n",
      "\n",
      "    for k, v in self.__get(data).items():\n",
      "      self.__dict__[k] = self.__set(v)\n",
      "\n",
      "  def __getattr__(self, k):\n",
      "    if k not in self.__dict__:\n",
      "      return None\n",
      "    else:\n",
      "      return self.__dict__[k]\n",
      "\n",
      "  def __setattr__(self, k, v):\n",
      "    self.__dict__[k] = Object(v) if type(v) == dict else v\n",
      "\n",
      "  def get(self):\n",
      "      return dict((k, self.__get(v)) for (k, v) in self.__dict__.items())\n",
      "\n",
      "  def __get(self, v):\n",
      "    #return v.get() if type(v) == Object else v\n",
      "    return v\n",
      "\n",
      "  def __set(self, v):\n",
      "    #return Object(v) if type(v) == dict else v\n",
      "    return to_jsobj(v)\n",
      "\n",
      "  def __str__(self):\n",
      "    #return str(self.get())\n",
      "    return self.__dict__.__str__()\n",
      "\n",
      "  def __repr__(self):\n",
      "    #return str(self.get())\n",
      "    return self.__dict__.__repr__()\n",
      "\n",
      "  def __eq__(self, other):\n",
      "    return str(self) == str(other)\n",
      "\n",
      "  def __contains__(self, k):\n",
      "    return k in self.__dict__\n",
      "\n",
      "  def __len__(self):\n",
      "    return len(self.__dict__)\n",
      "\n",
      "  def __getitem__(self, k):\n",
      "    if k not in self.__dict__:\n",
      "      return None\n",
      "    else:\n",
      "      return self.__dict__[k]\n",
      "\n",
      "  def __setitem__(self, k, v):\n",
      "    #self.__dict__[k] = Object(v) if type(v) == dict else v\n",
      "    self.__dict__[k] = to_jsobj(v)\n",
      "\n",
      "  def __iter__(self):\n",
      "    return self.__dict__.__iter__()\n",
      "\n",
      "  def iteritems(self):\n",
      "    return self.__dict__.iteritems()\n",
      "\n",
      "  def items(self):\n",
      "    return self.__dict__.items()\n",
      "\n",
      "  def keys(self):\n",
      "    return self.__dict__.keys()\n",
      "\n",
      "  def iterkeys(self):\n",
      "    return self.__dict__.iterkeys()"
     ],
     "language": "python",
     "metadata": {},
     "outputs": [
      {
       "ename": "IOError",
       "evalue": "[Errno 2] No such file or directory: '/Users/geza/jsobj/jsobj/VERSION'",
       "output_type": "pyerr",
       "traceback": [
        "\u001b[0;31m---------------------------------------------------------------------------\u001b[0m\n\u001b[0;31mIOError\u001b[0m                                   Traceback (most recent call last)",
        "\u001b[0;32m<ipython-input-13-fb9648b032ac>\u001b[0m in \u001b[0;36m<module>\u001b[0;34m()\u001b[0m\n\u001b[1;32m     15\u001b[0m \u001b[0;34m\u001b[0m\u001b[0m\n\u001b[1;32m     16\u001b[0m \u001b[0m__author__\u001b[0m \u001b[0;34m=\u001b[0m \u001b[0;34m'Geza Kovacs'\u001b[0m\u001b[0;34m\u001b[0m\u001b[0m\n\u001b[0;32m---> 17\u001b[0;31m \u001b[0m__version__\u001b[0m \u001b[0;34m=\u001b[0m \u001b[0mopen\u001b[0m\u001b[0;34m(\u001b[0m\u001b[0mos\u001b[0m\u001b[0;34m.\u001b[0m\u001b[0mpath\u001b[0m\u001b[0;34m.\u001b[0m\u001b[0mjoin\u001b[0m\u001b[0;34m(\u001b[0m\u001b[0mHERE\u001b[0m\u001b[0;34m,\u001b[0m \u001b[0;34m'VERSION'\u001b[0m\u001b[0;34m)\u001b[0m\u001b[0;34m)\u001b[0m\u001b[0;34m.\u001b[0m\u001b[0mread\u001b[0m\u001b[0;34m(\u001b[0m\u001b[0;34m)\u001b[0m\u001b[0;34m[\u001b[0m\u001b[0;34m:\u001b[0m\u001b[0;34m-\u001b[0m\u001b[0;36m1\u001b[0m\u001b[0;34m]\u001b[0m\u001b[0;34m\u001b[0m\u001b[0m\n\u001b[0m\u001b[1;32m     18\u001b[0m \u001b[0;31m#__version__ = '1.0.0'\u001b[0m\u001b[0;34m\u001b[0m\u001b[0;34m\u001b[0m\u001b[0m\n\u001b[1;32m     19\u001b[0m \u001b[0m__license__\u001b[0m \u001b[0;34m=\u001b[0m \u001b[0;34m'MIT'\u001b[0m\u001b[0;34m\u001b[0m\u001b[0m\n",
        "\u001b[0;31mIOError\u001b[0m: [Errno 2] No such file or directory: '/Users/geza/jsobj/jsobj/VERSION'"
       ]
      }
     ],
     "prompt_number": 13
    },
    {
     "cell_type": "code",
     "collapsed": false,
     "input": [
      "# noexport\n",
      "\n",
      "d = Object({'a': 3, 'b': 5, 'c': [{'q': 7}]})\n",
      "print d.c[0].r"
     ],
     "language": "python",
     "metadata": {},
     "outputs": [
      {
       "output_type": "stream",
       "stream": "stdout",
       "text": [
        "None\n"
       ]
      }
     ],
     "prompt_number": 14
    }
   ],
   "metadata": {}
  }
 ]
}